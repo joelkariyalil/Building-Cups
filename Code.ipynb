{
 "cells": [
  {
   "cell_type": "code",
   "execution_count": null,
   "metadata": {},
   "outputs": [],
   "source": [
    "import math\n",
    "n=int(input('\\nEnter the Cups (No.): '))\n",
    "\n",
    "#Calculating the Roots using the Quadratic Equation\n",
    "a=1;b=1;c=-2*n\n",
    "d = (b**2) - (4*a*c)   \n",
    "sol1 = (-b-math.sqrt(d))/(2*a)\n",
    "sol2 = (-b+math.sqrt(d))/(2*a)\n",
    "\n",
    "#Checking for Complex Numbers\n",
    "if isinstance(sol1, complex):\n",
    "    sol1=sol1.real\n",
    "if isinstance(sol2, complex):\n",
    "    sol2=sol2.real\n",
    "\n",
    "#Discarding the Negative Values\n",
    "ans=math.floor(sol2) if sol1<0 else math.floor(sol1)\n",
    "\n",
    "val=ans*(ans+1)//2\n",
    "\n",
    "#Printing the Results\n",
    "print('\\nResults: \\n')\n",
    "print('The number of Cups at the Base: ',ans)\n",
    "print('The number of Cups Used: ',val)\n",
    "print('Cups Remaining: ',n-val)   "
   ]
  }
 ],
 "metadata": {
  "kernelspec": {
   "display_name": "Python 3",
   "language": "python",
   "name": "python3"
  },
  "language_info": {
   "codemirror_mode": {
    "name": "ipython",
    "version": 3
   },
   "file_extension": ".py",
   "mimetype": "text/x-python",
   "name": "python",
   "nbconvert_exporter": "python",
   "pygments_lexer": "ipython3",
   "version": "3.10.5"
  },
  "orig_nbformat": 4
 },
 "nbformat": 4,
 "nbformat_minor": 2
}
